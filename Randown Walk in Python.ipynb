{
 "cells": [
  {
   "cell_type": "code",
   "execution_count": null,
   "metadata": {},
   "outputs": [],
   "source": [
    "pip install matplotlib"
   ]
  },
  {
   "cell_type": "code",
   "execution_count": 2,
   "metadata": {},
   "outputs": [
    {
     "name": "stdout",
     "output_type": "stream",
     "text": [
      "Requirement already satisfied: numpy in /Users/enzo/anaconda3/lib/python3.7/site-packages (1.16.2)\n",
      "Note: you may need to restart the kernel to use updated packages.\n"
     ]
    }
   ],
   "source": [
    "pip install numpy"
   ]
  },
  {
   "cell_type": "code",
   "execution_count": 1,
   "metadata": {},
   "outputs": [
    {
     "data": {
      "text/plain": [
       "<Figure size 640x480 with 1 Axes>"
      ]
     },
     "metadata": {},
     "output_type": "display_data"
    }
   ],
   "source": [
    "# Python code for 1-D random walk. \n",
    "import random \n",
    "import numpy as np \n",
    "import matplotlib.pyplot as plt \n",
    "  \n",
    "# Probability to move up or down \n",
    "prob = [0.05, 0.95]   \n",
    "  \n",
    "# statically defining the starting position \n",
    "start = 2  \n",
    "positions = [start] \n",
    "  \n",
    "# creating the random points \n",
    "rr = np.random.random(1000) \n",
    "downp = rr < prob[0] \n",
    "upp = rr > prob[1] \n",
    "  \n",
    "  \n",
    "for idownp, iupp in zip(downp, upp): \n",
    "    down = idownp and positions[-1] > 1\n",
    "    up = iupp and positions[-1] < 4\n",
    "    positions.append(positions[-1] - down + up) \n",
    "  \n",
    "# plotting down the graph of the random walk in 1D \n",
    "plt.plot(positions) \n",
    "plt.show()"
   ]
  },
  {
   "cell_type": "code",
   "execution_count": null,
   "metadata": {},
   "outputs": [],
   "source": []
  }
 ],
 "metadata": {
  "kernelspec": {
   "display_name": "Python 3",
   "language": "python",
   "name": "python3"
  },
  "language_info": {
   "codemirror_mode": {
    "name": "ipython",
    "version": 3
   },
   "file_extension": ".py",
   "mimetype": "text/x-python",
   "name": "python",
   "nbconvert_exporter": "python",
   "pygments_lexer": "ipython3",
   "version": "3.7.3"
  }
 },
 "nbformat": 4,
 "nbformat_minor": 2
}
